{
 "cells": [
  {
   "cell_type": "code",
   "execution_count": 1,
   "id": "10da370c",
   "metadata": {},
   "outputs": [],
   "source": [
    "# import necessary modules\n",
    "from bs4 import BeautifulSoup\n",
    "import requests\n",
    "import pandas as pd"
   ]
  },
  {
   "cell_type": "code",
   "execution_count": 2,
   "id": "2255eabe",
   "metadata": {},
   "outputs": [],
   "source": [
    "# params\n",
    "URl = \"https://www.imdb.com/chart/top/\"\n",
    "Headers = {'User-Agent':'Mozilla/5.0 (Windows NT 10.0; Win64; x64; rv:108.0) Gecko/20100101 Firefox/108.0',\n",
    "           'Accept-Language':'en-US,en;q=0.5'\n",
    "          }"
   ]
  },
  {
   "cell_type": "code",
   "execution_count": 3,
   "id": "29cc75e4",
   "metadata": {},
   "outputs": [],
   "source": [
    "resp_obj = requests.get(URl , headers=Headers)\n",
    "soup = BeautifulSoup(resp_obj.text,'html.parser')"
   ]
  },
  {
   "cell_type": "markdown",
   "id": "d7b6298b",
   "metadata": {},
   "source": [
    "# Important Functions"
   ]
  },
  {
   "cell_type": "code",
   "execution_count": 4,
   "id": "589dba3e",
   "metadata": {},
   "outputs": [],
   "source": [
    "def get_rank(dom):\n",
    "    rank = dom.find('td', attrs={\"class\":\"titleColumn\"}).contents[0].strip()\n",
    "    return rank \n",
    "\n",
    "def get_title(dom):\n",
    "    title = dom.find('td', attrs={\"class\":\"titleColumn\"}).contents[1].contents[0].strip()\n",
    "    return title\n",
    "\n",
    "def get_release_date(dom):\n",
    "    year = dom.find('td', attrs={\"class\":\"titleColumn\"}).find('span').text.strip()\n",
    "    return year\n",
    "\n",
    "def get_ratings(dom):\n",
    "    ratings = dom.find('td', attrs={\"class\":\"ratingColumn imdbRating\"}).find('strong').text.strip()\n",
    "    return ratings"
   ]
  },
  {
   "cell_type": "markdown",
   "id": "58fe4e61",
   "metadata": {},
   "source": [
    "# scraping data "
   ]
  },
  {
   "cell_type": "code",
   "execution_count": 5,
   "id": "8cdab66d",
   "metadata": {},
   "outputs": [],
   "source": [
    "movies = soup.find('tbody',attrs={\"class\":\"lister-list\"}).find_all('tr')"
   ]
  },
  {
   "cell_type": "code",
   "execution_count": 6,
   "id": "c5cebd41",
   "metadata": {},
   "outputs": [],
   "source": [
    "data = {'Movie Rank':[],'Movie Name':[],'Year of Release':[],'IMDB_rating':[]}\n",
    "for movie in movies:\n",
    "    data['Movie Rank'].append(get_rank(movie))\n",
    "    data['Movie Name'].append(get_title(movie))\n",
    "    data['Year of Release'].append(get_release_date(movie))\n",
    "    data['IMDB_rating'].append(get_ratings(movie))"
   ]
  },
  {
   "cell_type": "code",
   "execution_count": 7,
   "id": "80a967f8",
   "metadata": {
    "scrolled": true
   },
   "outputs": [],
   "source": [
    "df = pd.DataFrame(data)\n",
    "df['Movie Rank'] = df['Movie Rank'].apply(lambda x : x.replace('.',''))\n",
    "df['Year of Release'] = df['Year of Release'].apply(lambda x : x.replace('(',''))\n",
    "df['Year of Release'] = df['Year of Release'].apply(lambda x : x.replace(')',''))\n",
    "df['Movie Rank']=df['Movie Rank'].astype(int)"
   ]
  },
  {
   "cell_type": "code",
   "execution_count": 8,
   "id": "191088b8",
   "metadata": {
    "scrolled": true
   },
   "outputs": [
    {
     "data": {
      "text/html": [
       "<div>\n",
       "<style scoped>\n",
       "    .dataframe tbody tr th:only-of-type {\n",
       "        vertical-align: middle;\n",
       "    }\n",
       "\n",
       "    .dataframe tbody tr th {\n",
       "        vertical-align: top;\n",
       "    }\n",
       "\n",
       "    .dataframe thead th {\n",
       "        text-align: right;\n",
       "    }\n",
       "</style>\n",
       "<table border=\"1\" class=\"dataframe\">\n",
       "  <thead>\n",
       "    <tr style=\"text-align: right;\">\n",
       "      <th></th>\n",
       "      <th>Movie Rank</th>\n",
       "      <th>Movie Name</th>\n",
       "      <th>Year of Release</th>\n",
       "      <th>IMDB_rating</th>\n",
       "    </tr>\n",
       "  </thead>\n",
       "  <tbody>\n",
       "    <tr>\n",
       "      <th>0</th>\n",
       "      <td>1</td>\n",
       "      <td>The Shawshank Redemption</td>\n",
       "      <td>1994</td>\n",
       "      <td>9.2</td>\n",
       "    </tr>\n",
       "    <tr>\n",
       "      <th>1</th>\n",
       "      <td>2</td>\n",
       "      <td>The Godfather</td>\n",
       "      <td>1972</td>\n",
       "      <td>9.2</td>\n",
       "    </tr>\n",
       "    <tr>\n",
       "      <th>2</th>\n",
       "      <td>3</td>\n",
       "      <td>The Dark Knight</td>\n",
       "      <td>2008</td>\n",
       "      <td>9.0</td>\n",
       "    </tr>\n",
       "    <tr>\n",
       "      <th>3</th>\n",
       "      <td>4</td>\n",
       "      <td>The Godfather Part II</td>\n",
       "      <td>1974</td>\n",
       "      <td>9.0</td>\n",
       "    </tr>\n",
       "    <tr>\n",
       "      <th>4</th>\n",
       "      <td>5</td>\n",
       "      <td>12 Angry Men</td>\n",
       "      <td>1957</td>\n",
       "      <td>9.0</td>\n",
       "    </tr>\n",
       "    <tr>\n",
       "      <th>...</th>\n",
       "      <td>...</td>\n",
       "      <td>...</td>\n",
       "      <td>...</td>\n",
       "      <td>...</td>\n",
       "    </tr>\n",
       "    <tr>\n",
       "      <th>245</th>\n",
       "      <td>246</td>\n",
       "      <td>The Iron Giant</td>\n",
       "      <td>1999</td>\n",
       "      <td>8.0</td>\n",
       "    </tr>\n",
       "    <tr>\n",
       "      <th>246</th>\n",
       "      <td>247</td>\n",
       "      <td>The Help</td>\n",
       "      <td>2011</td>\n",
       "      <td>8.0</td>\n",
       "    </tr>\n",
       "    <tr>\n",
       "      <th>247</th>\n",
       "      <td>248</td>\n",
       "      <td>Everything Everywhere All at Once</td>\n",
       "      <td>2022</td>\n",
       "      <td>8.0</td>\n",
       "    </tr>\n",
       "    <tr>\n",
       "      <th>248</th>\n",
       "      <td>249</td>\n",
       "      <td>Aladdin</td>\n",
       "      <td>1992</td>\n",
       "      <td>8.0</td>\n",
       "    </tr>\n",
       "    <tr>\n",
       "      <th>249</th>\n",
       "      <td>250</td>\n",
       "      <td>Gandhi</td>\n",
       "      <td>1982</td>\n",
       "      <td>8.0</td>\n",
       "    </tr>\n",
       "  </tbody>\n",
       "</table>\n",
       "<p>250 rows × 4 columns</p>\n",
       "</div>"
      ],
      "text/plain": [
       "     Movie Rank                         Movie Name Year of Release IMDB_rating\n",
       "0             1           The Shawshank Redemption            1994         9.2\n",
       "1             2                      The Godfather            1972         9.2\n",
       "2             3                    The Dark Knight            2008         9.0\n",
       "3             4              The Godfather Part II            1974         9.0\n",
       "4             5                       12 Angry Men            1957         9.0\n",
       "..          ...                                ...             ...         ...\n",
       "245         246                     The Iron Giant            1999         8.0\n",
       "246         247                           The Help            2011         8.0\n",
       "247         248  Everything Everywhere All at Once            2022         8.0\n",
       "248         249                            Aladdin            1992         8.0\n",
       "249         250                             Gandhi            1982         8.0\n",
       "\n",
       "[250 rows x 4 columns]"
      ]
     },
     "execution_count": 8,
     "metadata": {},
     "output_type": "execute_result"
    }
   ],
   "source": [
    "df"
   ]
  },
  {
   "cell_type": "markdown",
   "id": "d6f3353d",
   "metadata": {},
   "source": [
    "saving dataframe in excel format "
   ]
  },
  {
   "cell_type": "code",
   "execution_count": null,
   "id": "43c81079",
   "metadata": {},
   "outputs": [],
   "source": [
    "df.to_excel('./imdbData_webscraping.xlsx',index=False)"
   ]
  }
 ],
 "metadata": {
  "language_info": {
   "codemirror_mode": {
    "name": "ipython",
    "version": 3
   },
   "file_extension": ".py",
   "mimetype": "text/x-python",
   "name": "python",
   "nbconvert_exporter": "python",
   "pygments_lexer": "ipython3",
   "version": "3.8.8"
  }
 },
 "nbformat": 4,
 "nbformat_minor": 5
}
